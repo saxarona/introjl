{
 "cells": [
  {
   "cell_type": "markdown",
   "id": "4d78731f",
   "metadata": {},
   "source": [
    "# Symbolics in Julia\n"
   ]
  },
  {
   "cell_type": "code",
   "execution_count": 1,
   "id": "15c80024",
   "metadata": {},
   "outputs": [],
   "source": [
    "using Symbolics"
   ]
  },
  {
   "cell_type": "code",
   "execution_count": 2,
   "id": "f43becce",
   "metadata": {},
   "outputs": [
    {
     "data": {
      "text/latex": [
       "\\begin{equation}\n",
       "\\left[\n",
       "\\begin{array}{c}\n",
       "x \\\\\n",
       "y \\\\\n",
       "\\end{array}\n",
       "\\right]\n",
       "\\end{equation}\n"
      ],
      "text/plain": [
       "2-element Vector{Num}:\n",
       " x\n",
       " y"
      ]
     },
     "execution_count": 2,
     "metadata": {},
     "output_type": "execute_result"
    }
   ],
   "source": [
    "@variables x y"
   ]
  },
  {
   "cell_type": "code",
   "execution_count": 3,
   "id": "4bd07b07",
   "metadata": {},
   "outputs": [
    {
     "data": {
      "text/latex": [
       "\\begin{equation}\n",
       "\\left[\n",
       "\\begin{array}{ccc}\n",
       "y + x^{2} & 0 & 2 x \\\\\n",
       "0 & 0 & 2 y \\\\\n",
       "x + y^{2} & 0 & 0 \\\\\n",
       "\\end{array}\n",
       "\\right]\n",
       "\\end{equation}\n"
      ],
      "text/plain": [
       "3×3 Matrix{Num}:\n",
       " y + x^2  0  2x\n",
       "       0  0  2y\n",
       " x + y^2  0   0"
      ]
     },
     "execution_count": 3,
     "metadata": {},
     "output_type": "execute_result"
    }
   ],
   "source": [
    "A = [x^2 + y 0 2x\n",
    "     0 0 2y\n",
    "    y^2 + x 0 0]"
   ]
  },
  {
   "cell_type": "markdown",
   "id": "54c59ea1",
   "metadata": {},
   "source": [
    "## Derivatives"
   ]
  },
  {
   "cell_type": "code",
   "execution_count": 4,
   "id": "cc1607b0",
   "metadata": {},
   "outputs": [
    {
     "data": {
      "text/latex": [
       "\\begin{equation}\n",
       "\\left[\n",
       "\\begin{array}{c}\n",
       "t \\\\\n",
       "\\end{array}\n",
       "\\right]\n",
       "\\end{equation}\n"
      ],
      "text/plain": [
       "1-element Vector{Num}:\n",
       " t"
      ]
     },
     "execution_count": 4,
     "metadata": {},
     "output_type": "execute_result"
    }
   ],
   "source": [
    "@variables t"
   ]
  },
  {
   "cell_type": "code",
   "execution_count": 5,
   "id": "68feabf6",
   "metadata": {},
   "outputs": [
    {
     "data": {
      "text/plain": [
       "(::Differential) (generic function with 2 methods)"
      ]
     },
     "execution_count": 5,
     "metadata": {},
     "output_type": "execute_result"
    }
   ],
   "source": [
    "D = Differential(t)"
   ]
  },
  {
   "cell_type": "code",
   "execution_count": 6,
   "id": "226de55f",
   "metadata": {},
   "outputs": [
    {
     "data": {
      "text/latex": [
       "\\begin{equation}\n",
       "t + t^{2}\n",
       "\\end{equation}\n"
      ],
      "text/plain": [
       "t + t^2"
      ]
     },
     "execution_count": 6,
     "metadata": {},
     "output_type": "execute_result"
    }
   ],
   "source": [
    "z = t + t^2"
   ]
  },
  {
   "cell_type": "code",
   "execution_count": 7,
   "id": "238d4fc1",
   "metadata": {},
   "outputs": [
    {
     "data": {
      "text/latex": [
       "\\begin{equation}\n",
       "\\mathrm{\\frac{d}{d t}}\\left( t + t^{2} \\right)\n",
       "\\end{equation}\n"
      ],
      "text/plain": [
       "Differential(t)(t + t^2)"
      ]
     },
     "execution_count": 7,
     "metadata": {},
     "output_type": "execute_result"
    }
   ],
   "source": [
    "D(z)"
   ]
  },
  {
   "cell_type": "markdown",
   "id": "43e8cbd6",
   "metadata": {},
   "source": [
    "The derivative is a lazy operator, as expected. We can expand it using `expand_derivatives`:"
   ]
  },
  {
   "cell_type": "code",
   "execution_count": 8,
   "id": "889aa519",
   "metadata": {},
   "outputs": [
    {
     "data": {
      "text/latex": [
       "\\begin{equation}\n",
       "1 + 2 t\n",
       "\\end{equation}\n"
      ],
      "text/plain": [
       "1 + 2t"
      ]
     },
     "execution_count": 8,
     "metadata": {},
     "output_type": "execute_result"
    }
   ],
   "source": [
    "expand_derivatives(D(z))"
   ]
  },
  {
   "cell_type": "code",
   "execution_count": 9,
   "id": "ccdc9d2b",
   "metadata": {},
   "outputs": [
    {
     "data": {
      "text/latex": [
       "\\begin{equation}\n",
       "\\left[\n",
       "\\begin{array}{cc}\n",
       "2 x & 1 \\\\\n",
       "0 & 0 \\\\\n",
       "1 & 2 y \\\\\n",
       "\\end{array}\n",
       "\\right]\n",
       "\\end{equation}\n"
      ],
      "text/plain": [
       "3×2 Matrix{Num}:\n",
       " 2x   1\n",
       "  0   0\n",
       "  1  2y"
      ]
     },
     "execution_count": 9,
     "metadata": {},
     "output_type": "execute_result"
    }
   ],
   "source": [
    "Symbolics.jacobian(A[:,1], [x, y])"
   ]
  },
  {
   "cell_type": "code",
   "execution_count": 10,
   "id": "33162103",
   "metadata": {},
   "outputs": [
    {
     "data": {
      "text/latex": [
       "\\begin{equation}\n",
       "\\left[\n",
       "\\begin{array}{cc}\n",
       "2 & 0 \\\\\n",
       "0 & 6 \\\\\n",
       "\\end{array}\n",
       "\\right]\n",
       "\\end{equation}\n"
      ],
      "text/plain": [
       "2×2 Matrix{Num}:\n",
       " 2  0\n",
       " 0  6"
      ]
     },
     "execution_count": 10,
     "metadata": {},
     "output_type": "execute_result"
    }
   ],
   "source": [
    "Symbolics.hessian(x^2 + 3y^2 - x, [x, y])"
   ]
  },
  {
   "cell_type": "markdown",
   "id": "eade00f2",
   "metadata": {},
   "source": [
    "## Simplification and substitution"
   ]
  },
  {
   "cell_type": "code",
   "execution_count": 11,
   "id": "618a682c",
   "metadata": {},
   "outputs": [
    {
     "data": {
      "text/latex": [
       "\\begin{equation}\n",
       "2 x + 2 y\n",
       "\\end{equation}\n"
      ],
      "text/plain": [
       "2x + 2y"
      ]
     },
     "execution_count": 11,
     "metadata": {},
     "output_type": "execute_result"
    }
   ],
   "source": [
    "simplify(2x + 2y)"
   ]
  },
  {
   "cell_type": "code",
   "execution_count": 12,
   "id": "307ee7aa",
   "metadata": {},
   "outputs": [
    {
     "data": {
      "text/latex": [
       "\\begin{equation}\n",
       "\\left[\n",
       "\\begin{array}{cc}\n",
       "2 t + 2 t^{2} & 6 t \\\\\n",
       "x + 2 t + 2 y & y^{2} \\\\\n",
       "\\end{array}\n",
       "\\right]\n",
       "\\end{equation}\n"
      ],
      "text/plain": [
       "2×2 Matrix{Num}:\n",
       " 2t + 2(t^2)   6t\n",
       " x + 2t + 2y  y^2"
      ]
     },
     "execution_count": 12,
     "metadata": {},
     "output_type": "execute_result"
    }
   ],
   "source": [
    "B = simplify.([t + t^2 + t + t^2 2t + 4t\n",
    " x + y + y + 2t x^2 - x^2 + y^2])"
   ]
  },
  {
   "cell_type": "code",
   "execution_count": 15,
   "id": "015640e8",
   "metadata": {},
   "outputs": [
    {
     "data": {
      "text/latex": [
       "\\begin{equation}\n",
       "\\left[\n",
       "\\begin{array}{cc}\n",
       "40.0 & 24.0 \\\\\n",
       "16.0 & 9.0 \\\\\n",
       "\\end{array}\n",
       "\\right]\n",
       "\\end{equation}\n"
      ],
      "text/plain": [
       "2×2 Matrix{Num}:\n",
       " 40.0  24.0\n",
       " 16.0   9.0"
      ]
     },
     "execution_count": 15,
     "metadata": {},
     "output_type": "execute_result"
    }
   ],
   "source": [
    "V = substitute.(B, (Dict(x => 2.0, y => 3.0, t => 4.0),))"
   ]
  },
  {
   "cell_type": "markdown",
   "id": "6cc811e5",
   "metadata": {},
   "source": [
    "## Functions"
   ]
  },
  {
   "cell_type": "code",
   "execution_count": 17,
   "id": "03e90f78",
   "metadata": {},
   "outputs": [],
   "source": [
    "f(x, y) = x^2 + y\n",
    "@register_symbolic f(x, y)"
   ]
  },
  {
   "cell_type": "code",
   "execution_count": 19,
   "id": "20078cda",
   "metadata": {},
   "outputs": [
    {
     "data": {
      "text/latex": [
       "\\begin{equation}\n",
       "y^{2} + f\\left( x, y \\right)\n",
       "\\end{equation}\n"
      ],
      "text/plain": [
       "y^2 + f(x, y)"
      ]
     },
     "execution_count": 19,
     "metadata": {},
     "output_type": "execute_result"
    }
   ],
   "source": [
    "f(x, y) + y^2"
   ]
  },
  {
   "cell_type": "markdown",
   "id": "021e2e51",
   "metadata": {},
   "source": [
    "If we were to do derivatives, we need additional steps:"
   ]
  },
  {
   "cell_type": "code",
   "execution_count": 23,
   "id": "9c115b82",
   "metadata": {},
   "outputs": [],
   "source": [
    "Symbolics.derivative(::typeof(f), args::NTuple{2, Any}, ::Val{1}) = 2args[1]"
   ]
  },
  {
   "cell_type": "code",
   "execution_count": 29,
   "id": "cd0f9f8e",
   "metadata": {},
   "outputs": [
    {
     "data": {
      "text/plain": [
       "(::Differential) (generic function with 2 methods)"
      ]
     },
     "execution_count": 29,
     "metadata": {},
     "output_type": "execute_result"
    }
   ],
   "source": [
    "dx = Differential(x)"
   ]
  },
  {
   "cell_type": "code",
   "execution_count": 30,
   "id": "4ba0a74a",
   "metadata": {},
   "outputs": [
    {
     "data": {
      "text/latex": [
       "\\begin{equation}\n",
       "2 x\n",
       "\\end{equation}\n"
      ],
      "text/plain": [
       "2x"
      ]
     },
     "execution_count": 30,
     "metadata": {},
     "output_type": "execute_result"
    }
   ],
   "source": [
    "expand_derivatives(dx(f(x, y)))"
   ]
  },
  {
   "cell_type": "code",
   "execution_count": 33,
   "id": "d98d2c2f",
   "metadata": {},
   "outputs": [
    {
     "data": {
      "text/latex": [
       "\\begin{equation}\n",
       "2 x\n",
       "\\end{equation}\n"
      ],
      "text/plain": [
       "2x"
      ]
     },
     "execution_count": 33,
     "metadata": {},
     "output_type": "execute_result"
    }
   ],
   "source": [
    "Symbolics.derivative(f(x, y), x)"
   ]
  },
  {
   "cell_type": "markdown",
   "id": "762ad0af",
   "metadata": {},
   "source": [
    "Notice how `expand_derivatives` of the $\\text{d}x$ on $f(x,y)$ gives us $2x$ as the derivative we registered was defined as `2args[1]`. So we need to manually define what the derivative is, before we can make it _manageable_ with the differentiation system."
   ]
  },
  {
   "cell_type": "markdown",
   "id": "f71debaf",
   "metadata": {},
   "source": [
    "To make it consistent, then:"
   ]
  },
  {
   "cell_type": "code",
   "execution_count": 35,
   "id": "a94b673f",
   "metadata": {},
   "outputs": [],
   "source": [
    "Symbolics.derivative(::typeof(f), args::NTuple{2, Any}, ::Val{2}) = 1"
   ]
  },
  {
   "cell_type": "markdown",
   "id": "f81c22b0",
   "metadata": {},
   "source": [
    "So now we can do:"
   ]
  },
  {
   "cell_type": "code",
   "execution_count": 36,
   "id": "10c2ae2d",
   "metadata": {},
   "outputs": [
    {
     "data": {
      "text/latex": [
       "\\begin{equation}\n",
       "1\n",
       "\\end{equation}\n"
      ],
      "text/plain": [
       "1"
      ]
     },
     "execution_count": 36,
     "metadata": {},
     "output_type": "execute_result"
    }
   ],
   "source": [
    "Symbolics.derivative(f(x, y), y)"
   ]
  },
  {
   "cell_type": "code",
   "execution_count": 37,
   "id": "cdda30db",
   "metadata": {},
   "outputs": [
    {
     "data": {
      "text/plain": [
       "(::Differential) (generic function with 2 methods)"
      ]
     },
     "execution_count": 37,
     "metadata": {},
     "output_type": "execute_result"
    }
   ],
   "source": [
    "dy = Differential(y)"
   ]
  },
  {
   "cell_type": "code",
   "execution_count": 39,
   "id": "4898f25e",
   "metadata": {},
   "outputs": [
    {
     "data": {
      "text/latex": [
       "\\begin{equation}\n",
       "1\n",
       "\\end{equation}\n"
      ],
      "text/plain": [
       "1"
      ]
     },
     "execution_count": 39,
     "metadata": {},
     "output_type": "execute_result"
    }
   ],
   "source": [
    "expand_derivatives(dy(f(x,y)), y)"
   ]
  },
  {
   "cell_type": "markdown",
   "id": "58f162d1",
   "metadata": {},
   "source": [
    "## Notes"
   ]
  },
  {
   "cell_type": "markdown",
   "id": "ff6649a4",
   "metadata": {},
   "source": [
    "From [Symbolics.jl documentation](https://symbolics.juliasymbolics.org/stable/comparison/):\n",
    "> While Symbolics.jl has many features missing from SymPy, it does not superset SymPy's functionality. For a list of missing features, see this issue.\n",
    "\n",
    "This is important, because sometimes we want to mix the symbolic programming with the numerical methods. Sometimes, we don't. If we wanna keep it separated, we can go back to SymPy :)"
   ]
  }
 ],
 "metadata": {
  "kernelspec": {
   "display_name": "Julia 1.7.3",
   "language": "julia",
   "name": "julia-1.7"
  },
  "language_info": {
   "file_extension": ".jl",
   "mimetype": "application/julia",
   "name": "julia",
   "version": "1.7.3"
  }
 },
 "nbformat": 4,
 "nbformat_minor": 5
}
